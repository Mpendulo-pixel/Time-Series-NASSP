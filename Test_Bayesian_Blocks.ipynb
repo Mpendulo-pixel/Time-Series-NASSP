{
 "cells": [
  {
   "cell_type": "markdown",
   "metadata": {},
   "source": [
    "### Bayesian blocks\n",
    "\n",
    "This is a notebook that's just meant to explore the Bayesian blocks algorithm, in an attempt to understand how to define block lengths, and how the algorithm counts the number of events in a block.\n",
    "\n",
    "It's just an attempt to mesh the astropy stats algorithm with the MATLAB algorith in Scargle 2013."
   ]
  },
  {
   "cell_type": "code",
   "execution_count": 1,
   "metadata": {},
   "outputs": [],
   "source": [
    "import numpy as np\n",
    "import astropy.stats as astats\n",
    "import matplotlib.pyplot as plt\n",
    "import math\n"
   ]
  },
  {
   "cell_type": "code",
   "execution_count": 3,
   "metadata": {},
   "outputs": [
    {
     "name": "stdout",
     "output_type": "stream",
     "text": [
      "[-2.76983185 -1.11019389  0.69169136  2.71244943]\n"
     ]
    },
    {
     "name": "stderr",
     "output_type": "stream",
     "text": [
      "WARNING: p0 does not seem to accurately represent the false positive rate for event data. It is highly recommended that you run random trials on signal-free noise to calibrate ncp_prior to achieve a desired false positive rate. [astropy.stats.bayesian_blocks]\n"
     ]
    }
   ],
   "source": [
    "\n",
    "t = np.random.normal(size=100)\n",
    "bb_edges = astats.bayesian_blocks(t, fitness='events', p0=0.01)\n",
    "\n",
    "print(bb_edges)"
   ]
  },
  {
   "cell_type": "code",
   "execution_count": 4,
   "metadata": {},
   "outputs": [
    {
     "name": "stdout",
     "output_type": "stream",
     "text": [
      "[1.23016815 1.53794354 1.8575554  1.97945182 2.10780384 2.20421277\n",
      " 2.33208559 2.41334853 2.4810232  2.53277216 2.66533005]\n",
      "[1.23016815 1.84571893 1.86939186 2.08951178 2.12609591 2.28232963\n",
      " 2.38184154 2.44485553 2.51719087 2.54835346]\n",
      "6.508748048682268\n"
     ]
    }
   ],
   "source": [
    "#Sort our test time series\n",
    "ts = np.sort(t) + 4\n",
    "num_points = len(ts)\n",
    "\n",
    "# Define edges of the cells according to the Voronoi tesselation. \n",
    "# Leave the first and last as they are (i.e. the edges, and do the rest)\n",
    "\n",
    "cell_edge = np.concatenate([ts[:1],0.5*(ts[1:]+ts[:-1]),ts[-1:]])\n",
    "print(cell_edge[0:11])\n",
    "print(ts[0:10])\n",
    "\n",
    "\n",
    "# Define the block-lengths (not the cell-lengths)\n",
    "block_length = ts[-1] - cell_edge\n",
    "\n",
    "\n",
    "# Ncp prior\n",
    "p0 = 0.01\n",
    "ncp = 4 - math.log(73.53*p0*num_points**(-0.478))\n",
    "print(ncp)\n",
    "\n",
    "#print(b_length[0:11])\n",
    "#print(c_edge[0:11])"
   ]
  },
  {
   "cell_type": "code",
   "execution_count": 17,
   "metadata": {},
   "outputs": [
    {
     "data": {
      "image/png": "[encoded data removed]",
      "text/plain": [
       "<Figure size 432x288 with 1 Axes>"
      ]
     },
     "metadata": {
      "needs_background": "light"
     },
     "output_type": "display_data"
    }
   ],
   "source": [
    "# Just making this so I can plot the events\n",
    "ones = np.zeros(len(ts)) + 1\n",
    "plt.plot(ts,ones,'bo')\n",
    "plt.show()"
   ]
  },
  {
   "cell_type": "code",
   "execution_count": 15,
   "metadata": {},
   "outputs": [
    {
     "name": "stdout",
     "output_type": "stream",
     "text": [
      "[1.23016815 1.84571893 1.86939186 2.08951178 2.12609591 2.28232963\n",
      " 2.38184154 2.44485553 2.51719087 2.54835346 2.78230665 2.88766162]\n"
     ]
    }
   ],
   "source": [
    "print(ts[0:12])"
   ]
  },
  {
   "cell_type": "code",
   "execution_count": 16,
   "metadata": {},
   "outputs": [
    {
     "name": "stdout",
     "output_type": "stream",
     "text": [
      "[5.48228128 5.17450589 4.85489403 4.73299761 4.60464558 4.50823666\n",
      " 4.38036384 4.29910089 4.23142623 4.17967726 4.04711938]\n"
     ]
    }
   ],
   "source": [
    "print(block_length[0:11])"
   ]
  },
  {
   "cell_type": "code",
   "execution_count": 45,
   "metadata": {},
   "outputs": [
    {
     "name": "stdout",
     "output_type": "stream",
     "text": [
      "Cumulative sum\n",
      "[ 1.00728729  3.00014317  5.0112926   7.05431068  9.11493667 11.5031862\n",
      " 13.9520781 ]\n",
      "Time Series values (backwards):\n",
      "[2.4488919  2.38824953 2.06062599 2.04301808 2.01114942 1.99285589\n",
      " 1.00728729]\n",
      "Cum sum (of reversed ts array)\n",
      "[ 2.4488919   4.83714143  6.89776742  8.9407855  10.95193492 12.94479081\n",
      " 13.9520781 ]\n",
      "Cum sum backwards (of reversed ts array)\n",
      "[13.9520781  12.94479081 10.95193492  8.9407855   6.89776742  4.83714143\n",
      "  2.4488919 ]\n"
     ]
    }
   ],
   "source": [
    "# testing some rubbish\n",
    "R = 6\n",
    "#blocklength = b_length[:(6+1)] \n",
    "#print(blocklength)\n",
    "#print(b_length[6+1])\n",
    "\n",
    "print(\"Cumulative sum\")\n",
    "print(np.cumsum(ts[:R + 1]))#\n",
    "print(\"Time Series values (backwards):\")\n",
    "print(ts[:R+1][::-1])\n",
    "print(\"Cum sum (of reversed ts array)\")\n",
    "print(np.cumsum(ts[:R + 1][::-1]))\n",
    "print(\"Cum sum backwards (of reversed ts array)\")\n",
    "print(np.cumsum(ts[:R + 1][::-1])[::-1])"
   ]
  },
  {
   "cell_type": "code",
   "execution_count": 85,
   "metadata": {},
   "outputs": [
    {
     "name": "stdout",
     "output_type": "stream",
     "text": [
      "[3 4 5]\n"
     ]
    }
   ],
   "source": [
    "# testing\n",
    "a = np.array([2,3,4,5])\n",
    "print(a[1:])\n",
    "#np.cumsum(nn_vec[:7][::-1])[::-1]"
   ]
  },
  {
   "cell_type": "code",
   "execution_count": 96,
   "metadata": {},
   "outputs": [],
   "source": [
    "# The vector of \"events\" in each cell (one per cell for this data)\n",
    "nn_vec = np.ones(ts.size)\n",
    "\n",
    "# Some arrays of zeros to store the outputs\n",
    "best = np.zeros(num_points, dtype=float)\n",
    "last = np.zeros(num_points, dtype=int)\n",
    "\n",
    "#plt.plot(ts[:10],evt[:10],'b.')\n",
    "#plt.plot(c_edge[:11],evt_edge[:11],'r.')\n",
    "#plt.show()"
   ]
  },
  {
   "cell_type": "code",
   "execution_count": 97,
   "metadata": {},
   "outputs": [],
   "source": [
    "# Start with the first data cell; adding one cell at each iteration\n",
    "\n",
    "for R in range(num_points):\n",
    "#for R in range(6):\n",
    "    # Compute fitness of putative last block (which ends at R)\n",
    "    \n",
    "    # First get block lengths/duration of all potential blocks up to R\n",
    "    T_k = block_length[:R+1] - block_length[R+1]\n",
    "    #print(\"T_k: \",T_k)\n",
    "    \n",
    "    # Get the number of events in each block\n",
    "    N_k = np.cumsum(nn_vec[:R+1][::-1])[::-1]\n",
    "    #print(\"N_k: \", N_k)\n",
    "    \n",
    "    # I think this could be written as below \n",
    "    # -- reodering an array full of ones makes no sense anyway\n",
    "    # N_k = np.cumsum(nn_vec[:7])[::-1] \n",
    "    \n",
    "    # Now calculate the fitness for each block\n",
    "    fit_vec = N_k * (np.log(N_k) + np.log(T_k))\n",
    "    \n",
    "     # Apply the prior\n",
    "    fit_vec = fit_vec - ncp\n",
    "    fit_vec[1:] = best[:R] #this is for ignoring the first (R = 1)\n",
    "    #print(\"fit_vec:\")\n",
    "    #print(fit_vec)\n",
    "    \n",
    "    # Now choose where this fitness is maximised\n",
    "    i_max = np.argmax(fit_vec)\n",
    "    \n",
    "    # Keep track of the best fitness function so far, a\n",
    "    # and the index of the changes point.\n",
    "    last[R] = i_max\n",
    "    best[R] = fit_vec[i_max]\n",
    "       "
   ]
  },
  {
   "cell_type": "code",
   "execution_count": 98,
   "metadata": {},
   "outputs": [],
   "source": [
    "# Recover the changepoints\n",
    "\n",
    "change_points = np.zeros(N, dtype=int)\n",
    "i_cp = N\n",
    "ind = N\n",
    "while True:\n",
    "    i_cp = i_cp - 1\n",
    "    change_points[i_cp] = ind\n",
    "    if ind == 0:\n",
    "        break\n",
    "    ind = last[ind - 1]\n",
    "change_points = change_points[i_cp:]\n"
   ]
  },
  {
   "cell_type": "code",
   "execution_count": 101,
   "metadata": {},
   "outputs": [
    {
     "name": "stdout",
     "output_type": "stream",
     "text": [
      "[0 6]\n",
      "[1.53695983 2.24684785]\n"
     ]
    }
   ],
   "source": [
    "print(change_points)\n",
    "print(cell_edge[change_points])"
   ]
  },
  {
   "cell_type": "code",
   "execution_count": 10,
   "metadata": {},
   "outputs": [
    {
     "name": "stdout",
     "output_type": "stream",
     "text": [
      "[-2.37634579 -1.40095652  1.46036906  3.81029626]\n"
     ]
    }
   ],
   "source": [
    "# Let's define the fitness function for event data\n",
    "\n",
    "def fitness(N)\n",
    "\n",
    "# Now compute stuff: start with first data cell, add one cell at each iteration\n",
    "for R in range(N):\n",
    "    #Compute fitness of last block (ending at R)\n",
    "    # write a function (fit_vec) to do this"
   ]
  },
  {
   "cell_type": "code",
   "execution_count": 14,
   "metadata": {},
   "outputs": [],
   "source": [
    "events = np.zeros(100) + 1"
   ]
  },
  {
   "cell_type": "code",
   "execution_count": 19,
   "metadata": {},
   "outputs": [
    {
     "data": {
      "image/png": "[encoded data removed]",
      "text/plain": [
       "<Figure size 432x288 with 1 Axes>"
      ]
     },
     "metadata": {},
     "output_type": "display_data"
    }
   ],
   "source": [
    "plt.plot(t,events,'b.')\n",
    "plt.axvline(edges[0])\n",
    "plt.axvline(edges[1])\n",
    "plt.axvline(edges[2])\n",
    "plt.axvline(edges[3])\n",
    "plt.show()"
   ]
  },
  {
   "cell_type": "code",
   "execution_count": null,
   "metadata": {
    "collapsed": true
   },
   "outputs": [],
   "source": []
  }
 ],
 "metadata": {
  "kernelspec": {
   "display_name": "Python 3",
   "language": "python",
   "name": "python3"
  },
  "language_info": {
   "codemirror_mode": {
    "name": "ipython",
    "version": 3
   },
   "file_extension": ".py",
   "mimetype": "text/x-python",
   "name": "python",
   "nbconvert_exporter": "python",
   "pygments_lexer": "ipython3",
   "version": "3.8.3"
  }
 },
 "nbformat": 4,
 "nbformat_minor": 1
}
